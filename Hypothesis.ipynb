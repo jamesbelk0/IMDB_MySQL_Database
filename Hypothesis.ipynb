{
 "cells": [
  {
   "cell_type": "markdown",
   "id": "802d26df",
   "metadata": {},
   "source": [
    "# Various Hypothesis"
   ]
  },
  {
   "cell_type": "markdown",
   "id": "617e7ed4",
   "metadata": {},
   "source": [
    "## Imports and Load Data"
   ]
  },
  {
   "cell_type": "code",
   "execution_count": 1,
   "id": "ba97ed04",
   "metadata": {},
   "outputs": [
    {
     "data": {
      "text/plain": [
       "'1.9.3'"
      ]
     },
     "execution_count": 1,
     "metadata": {},
     "output_type": "execute_result"
    }
   ],
   "source": [
    "import pandas as pd\n",
    "import numpy as np\n",
    "import seaborn as sns\n",
    "import matplotlib.pyplot as plt\n",
    "import json\n",
    "from scipy import stats\n",
    "import scipy\n",
    "scipy.__version__"
   ]
  },
  {
   "cell_type": "code",
   "execution_count": 2,
   "id": "706bfd3e",
   "metadata": {},
   "outputs": [],
   "source": [
    "basics = pd.read_csv('Data/final_basics.csv.gz',low_memory = False)\n",
    "akas = pd.read_csv('Data/final_akas.csv.gz',low_memory = False)\n",
    "ratings = pd.read_csv('Data/final_ratings.csv.gz', low_memory = False)\n",
    "year_2000 = pd.read_csv('Data/final_tmdb_data_2000.csv.gz', low_memory = False)\n",
    "year_2001 = pd.read_csv('Data/final_tmdb_data_2001.csv.gz', low_memory = False)"
   ]
  },
  {
   "cell_type": "markdown",
   "id": "31af233d",
   "metadata": {},
   "source": [
    "# Question 1\n",
    " - Does the MPAA rating of a movie (G/PG/PG-13/R) affect how much revenue the movie generates?"
   ]
  },
  {
   "cell_type": "code",
   "execution_count": 3,
   "id": "a49adc67",
   "metadata": {
    "scrolled": true
   },
   "outputs": [
    {
     "name": "stdout",
     "output_type": "stream",
     "text": [
      "<class 'pandas.core.frame.DataFrame'>\n",
      "Int64Index: 2545 entries, 0 to 1315\n",
      "Data columns (total 26 columns):\n",
      " #   Column                 Non-Null Count  Dtype  \n",
      "---  ------                 --------------  -----  \n",
      " 0   imdb_id                2545 non-null   object \n",
      " 1   adult                  2543 non-null   float64\n",
      " 2   backdrop_path          1373 non-null   object \n",
      " 3   belongs_to_collection  203 non-null    object \n",
      " 4   budget                 2543 non-null   float64\n",
      " 5   genres                 2543 non-null   object \n",
      " 6   homepage               172 non-null    object \n",
      " 7   id                     2543 non-null   float64\n",
      " 8   original_language      2543 non-null   object \n",
      " 9   original_title         2543 non-null   object \n",
      " 10  overview               2492 non-null   object \n",
      " 11  popularity             2543 non-null   float64\n",
      " 12  poster_path            2285 non-null   object \n",
      " 13  production_companies   2543 non-null   object \n",
      " 14  production_countries   2543 non-null   object \n",
      " 15  release_date           2526 non-null   object \n",
      " 16  revenue                2543 non-null   float64\n",
      " 17  runtime                2543 non-null   float64\n",
      " 18  spoken_languages       2543 non-null   object \n",
      " 19  status                 2543 non-null   object \n",
      " 20  tagline                1092 non-null   object \n",
      " 21  title                  2543 non-null   object \n",
      " 22  video                  2543 non-null   float64\n",
      " 23  vote_average           2543 non-null   float64\n",
      " 24  vote_count             2543 non-null   float64\n",
      " 25  certification          809 non-null    object \n",
      "dtypes: float64(9), object(17)\n",
      "memory usage: 536.8+ KB\n"
     ]
    }
   ],
   "source": [
    "tmdb_df = pd.concat([year_2000, year_2001])\n",
    "tmdb_df.info()"
   ]
  },
  {
   "cell_type": "code",
   "execution_count": 4,
   "id": "75509b40",
   "metadata": {
    "scrolled": true
   },
   "outputs": [
    {
     "name": "stdout",
     "output_type": "stream",
     "text": [
      "<class 'pandas.core.frame.DataFrame'>\n",
      "Index: 809 entries, tt0118694 to tt8795764\n",
      "Data columns (total 25 columns):\n",
      " #   Column                 Non-Null Count  Dtype  \n",
      "---  ------                 --------------  -----  \n",
      " 0   adult                  809 non-null    float64\n",
      " 1   backdrop_path          618 non-null    object \n",
      " 2   belongs_to_collection  108 non-null    object \n",
      " 3   budget                 809 non-null    float64\n",
      " 4   genres                 809 non-null    object \n",
      " 5   homepage               91 non-null     object \n",
      " 6   id                     809 non-null    float64\n",
      " 7   original_language      809 non-null    object \n",
      " 8   original_title         809 non-null    object \n",
      " 9   overview               809 non-null    object \n",
      " 10  popularity             809 non-null    float64\n",
      " 11  poster_path            780 non-null    object \n",
      " 12  production_companies   809 non-null    object \n",
      " 13  production_countries   809 non-null    object \n",
      " 14  release_date           809 non-null    object \n",
      " 15  revenue                809 non-null    float64\n",
      " 16  runtime                809 non-null    float64\n",
      " 17  spoken_languages       809 non-null    object \n",
      " 18  status                 809 non-null    object \n",
      " 19  tagline                620 non-null    object \n",
      " 20  title                  809 non-null    object \n",
      " 21  video                  809 non-null    float64\n",
      " 22  vote_average           809 non-null    float64\n",
      " 23  vote_count             809 non-null    float64\n",
      " 24  certification          809 non-null    object \n",
      "dtypes: float64(9), object(16)\n",
      "memory usage: 164.3+ KB\n"
     ]
    },
    {
     "data": {
      "text/html": [
       "<div>\n",
       "<style scoped>\n",
       "    .dataframe tbody tr th:only-of-type {\n",
       "        vertical-align: middle;\n",
       "    }\n",
       "\n",
       "    .dataframe tbody tr th {\n",
       "        vertical-align: top;\n",
       "    }\n",
       "\n",
       "    .dataframe thead th {\n",
       "        text-align: right;\n",
       "    }\n",
       "</style>\n",
       "<table border=\"1\" class=\"dataframe\">\n",
       "  <thead>\n",
       "    <tr style=\"text-align: right;\">\n",
       "      <th></th>\n",
       "      <th>adult</th>\n",
       "      <th>backdrop_path</th>\n",
       "      <th>belongs_to_collection</th>\n",
       "      <th>budget</th>\n",
       "      <th>genres</th>\n",
       "      <th>homepage</th>\n",
       "      <th>id</th>\n",
       "      <th>original_language</th>\n",
       "      <th>original_title</th>\n",
       "      <th>overview</th>\n",
       "      <th>...</th>\n",
       "      <th>revenue</th>\n",
       "      <th>runtime</th>\n",
       "      <th>spoken_languages</th>\n",
       "      <th>status</th>\n",
       "      <th>tagline</th>\n",
       "      <th>title</th>\n",
       "      <th>video</th>\n",
       "      <th>vote_average</th>\n",
       "      <th>vote_count</th>\n",
       "      <th>certification</th>\n",
       "    </tr>\n",
       "    <tr>\n",
       "      <th>imdb_id</th>\n",
       "      <th></th>\n",
       "      <th></th>\n",
       "      <th></th>\n",
       "      <th></th>\n",
       "      <th></th>\n",
       "      <th></th>\n",
       "      <th></th>\n",
       "      <th></th>\n",
       "      <th></th>\n",
       "      <th></th>\n",
       "      <th></th>\n",
       "      <th></th>\n",
       "      <th></th>\n",
       "      <th></th>\n",
       "      <th></th>\n",
       "      <th></th>\n",
       "      <th></th>\n",
       "      <th></th>\n",
       "      <th></th>\n",
       "      <th></th>\n",
       "      <th></th>\n",
       "    </tr>\n",
       "  </thead>\n",
       "  <tbody>\n",
       "    <tr>\n",
       "      <th>tt0118694</th>\n",
       "      <td>0.0</td>\n",
       "      <td>/n4GJFGzsc7NinI1VeGDXIcQjtU2.jpg</td>\n",
       "      <td>NaN</td>\n",
       "      <td>150000.0</td>\n",
       "      <td>[{'id': 18, 'name': 'Drama'}, {'id': 10749, 'n...</td>\n",
       "      <td>NaN</td>\n",
       "      <td>843.0</td>\n",
       "      <td>cn</td>\n",
       "      <td>花樣年華</td>\n",
       "      <td>Two neighbors become intimate after discoverin...</td>\n",
       "      <td>...</td>\n",
       "      <td>12854953.0</td>\n",
       "      <td>99.0</td>\n",
       "      <td>[{'english_name': 'Cantonese', 'iso_639_1': 'c...</td>\n",
       "      <td>Released</td>\n",
       "      <td>Feel the heat, keep the feeling burning, let t...</td>\n",
       "      <td>In the Mood for Love</td>\n",
       "      <td>0.0</td>\n",
       "      <td>8.11</td>\n",
       "      <td>2172.0</td>\n",
       "      <td>PG</td>\n",
       "    </tr>\n",
       "    <tr>\n",
       "      <th>tt0118852</th>\n",
       "      <td>0.0</td>\n",
       "      <td>/vceiGZ3uavAEHlTA7v0GjQsGVKe.jpg</td>\n",
       "      <td>NaN</td>\n",
       "      <td>0.0</td>\n",
       "      <td>[{'id': 18, 'name': 'Drama'}]</td>\n",
       "      <td>NaN</td>\n",
       "      <td>49511.0</td>\n",
       "      <td>en</td>\n",
       "      <td>Chinese Coffee</td>\n",
       "      <td>When Harry Levine, an aging, unsuccessful Gree...</td>\n",
       "      <td>...</td>\n",
       "      <td>0.0</td>\n",
       "      <td>99.0</td>\n",
       "      <td>[{'english_name': 'English', 'iso_639_1': 'en'...</td>\n",
       "      <td>Released</td>\n",
       "      <td>There's a fine line between friendship and bet...</td>\n",
       "      <td>Chinese Coffee</td>\n",
       "      <td>0.0</td>\n",
       "      <td>6.80</td>\n",
       "      <td>49.0</td>\n",
       "      <td>R</td>\n",
       "    </tr>\n",
       "    <tr>\n",
       "      <th>tt0119273</th>\n",
       "      <td>0.0</td>\n",
       "      <td>/f5C03doOWiauu37bToKXtpgP5bS.jpg</td>\n",
       "      <td>{'id': 141086, 'name': 'Heavy Metal Collection...</td>\n",
       "      <td>15000000.0</td>\n",
       "      <td>[{'id': 28, 'name': 'Action'}, {'id': 12, 'nam...</td>\n",
       "      <td>NaN</td>\n",
       "      <td>16225.0</td>\n",
       "      <td>en</td>\n",
       "      <td>Heavy Metal 2000</td>\n",
       "      <td>Upon discovery of a shard of what could be the...</td>\n",
       "      <td>...</td>\n",
       "      <td>0.0</td>\n",
       "      <td>88.0</td>\n",
       "      <td>[{'english_name': 'English', 'iso_639_1': 'en'...</td>\n",
       "      <td>Released</td>\n",
       "      <td>not to survive the fight in the external world...</td>\n",
       "      <td>Heavy Metal 2000</td>\n",
       "      <td>0.0</td>\n",
       "      <td>6.07</td>\n",
       "      <td>178.0</td>\n",
       "      <td>R</td>\n",
       "    </tr>\n",
       "    <tr>\n",
       "      <th>tt0119495</th>\n",
       "      <td>0.0</td>\n",
       "      <td>NaN</td>\n",
       "      <td>NaN</td>\n",
       "      <td>0.0</td>\n",
       "      <td>[{'id': 35, 'name': 'Comedy'}, {'id': 10749, '...</td>\n",
       "      <td>NaN</td>\n",
       "      <td>51181.0</td>\n",
       "      <td>en</td>\n",
       "      <td>Love 101</td>\n",
       "      <td>Study hard.</td>\n",
       "      <td>...</td>\n",
       "      <td>0.0</td>\n",
       "      <td>86.0</td>\n",
       "      <td>[]</td>\n",
       "      <td>Released</td>\n",
       "      <td>NaN</td>\n",
       "      <td>Love 101</td>\n",
       "      <td>0.0</td>\n",
       "      <td>0.00</td>\n",
       "      <td>0.0</td>\n",
       "      <td>R</td>\n",
       "    </tr>\n",
       "    <tr>\n",
       "      <th>tt0120467</th>\n",
       "      <td>0.0</td>\n",
       "      <td>/knok3mNReKqPTplnnqz7E4dd7mD.jpg</td>\n",
       "      <td>NaN</td>\n",
       "      <td>120000.0</td>\n",
       "      <td>[{'id': 18, 'name': 'Drama'}, {'id': 27, 'name...</td>\n",
       "      <td>NaN</td>\n",
       "      <td>19085.0</td>\n",
       "      <td>en</td>\n",
       "      <td>Vulgar</td>\n",
       "      <td>Vulgar is about a man who is a children's clow...</td>\n",
       "      <td>...</td>\n",
       "      <td>14904.0</td>\n",
       "      <td>87.0</td>\n",
       "      <td>[{'english_name': 'English', 'iso_639_1': 'en'...</td>\n",
       "      <td>Released</td>\n",
       "      <td>Everyone loves a clown... some more than others.</td>\n",
       "      <td>Vulgar</td>\n",
       "      <td>0.0</td>\n",
       "      <td>5.50</td>\n",
       "      <td>44.0</td>\n",
       "      <td>R</td>\n",
       "    </tr>\n",
       "  </tbody>\n",
       "</table>\n",
       "<p>5 rows × 25 columns</p>\n",
       "</div>"
      ],
      "text/plain": [
       "           adult                     backdrop_path  \\\n",
       "imdb_id                                              \n",
       "tt0118694    0.0  /n4GJFGzsc7NinI1VeGDXIcQjtU2.jpg   \n",
       "tt0118852    0.0  /vceiGZ3uavAEHlTA7v0GjQsGVKe.jpg   \n",
       "tt0119273    0.0  /f5C03doOWiauu37bToKXtpgP5bS.jpg   \n",
       "tt0119495    0.0                               NaN   \n",
       "tt0120467    0.0  /knok3mNReKqPTplnnqz7E4dd7mD.jpg   \n",
       "\n",
       "                                       belongs_to_collection      budget  \\\n",
       "imdb_id                                                                    \n",
       "tt0118694                                                NaN    150000.0   \n",
       "tt0118852                                                NaN         0.0   \n",
       "tt0119273  {'id': 141086, 'name': 'Heavy Metal Collection...  15000000.0   \n",
       "tt0119495                                                NaN         0.0   \n",
       "tt0120467                                                NaN    120000.0   \n",
       "\n",
       "                                                      genres homepage  \\\n",
       "imdb_id                                                                 \n",
       "tt0118694  [{'id': 18, 'name': 'Drama'}, {'id': 10749, 'n...      NaN   \n",
       "tt0118852                      [{'id': 18, 'name': 'Drama'}]      NaN   \n",
       "tt0119273  [{'id': 28, 'name': 'Action'}, {'id': 12, 'nam...      NaN   \n",
       "tt0119495  [{'id': 35, 'name': 'Comedy'}, {'id': 10749, '...      NaN   \n",
       "tt0120467  [{'id': 18, 'name': 'Drama'}, {'id': 27, 'name...      NaN   \n",
       "\n",
       "                id original_language    original_title  \\\n",
       "imdb_id                                                  \n",
       "tt0118694    843.0                cn              花樣年華   \n",
       "tt0118852  49511.0                en    Chinese Coffee   \n",
       "tt0119273  16225.0                en  Heavy Metal 2000   \n",
       "tt0119495  51181.0                en          Love 101   \n",
       "tt0120467  19085.0                en            Vulgar   \n",
       "\n",
       "                                                    overview  ...     revenue  \\\n",
       "imdb_id                                                       ...               \n",
       "tt0118694  Two neighbors become intimate after discoverin...  ...  12854953.0   \n",
       "tt0118852  When Harry Levine, an aging, unsuccessful Gree...  ...         0.0   \n",
       "tt0119273  Upon discovery of a shard of what could be the...  ...         0.0   \n",
       "tt0119495                                        Study hard.  ...         0.0   \n",
       "tt0120467  Vulgar is about a man who is a children's clow...  ...     14904.0   \n",
       "\n",
       "          runtime                                   spoken_languages  \\\n",
       "imdb_id                                                                \n",
       "tt0118694    99.0  [{'english_name': 'Cantonese', 'iso_639_1': 'c...   \n",
       "tt0118852    99.0  [{'english_name': 'English', 'iso_639_1': 'en'...   \n",
       "tt0119273    88.0  [{'english_name': 'English', 'iso_639_1': 'en'...   \n",
       "tt0119495    86.0                                                 []   \n",
       "tt0120467    87.0  [{'english_name': 'English', 'iso_639_1': 'en'...   \n",
       "\n",
       "             status                                            tagline  \\\n",
       "imdb_id                                                                  \n",
       "tt0118694  Released  Feel the heat, keep the feeling burning, let t...   \n",
       "tt0118852  Released  There's a fine line between friendship and bet...   \n",
       "tt0119273  Released  not to survive the fight in the external world...   \n",
       "tt0119495  Released                                                NaN   \n",
       "tt0120467  Released   Everyone loves a clown... some more than others.   \n",
       "\n",
       "                          title  video vote_average vote_count certification  \n",
       "imdb_id                                                                       \n",
       "tt0118694  In the Mood for Love    0.0         8.11     2172.0            PG  \n",
       "tt0118852        Chinese Coffee    0.0         6.80       49.0             R  \n",
       "tt0119273      Heavy Metal 2000    0.0         6.07      178.0             R  \n",
       "tt0119495              Love 101    0.0         0.00        0.0             R  \n",
       "tt0120467                Vulgar    0.0         5.50       44.0             R  \n",
       "\n",
       "[5 rows x 25 columns]"
      ]
     },
     "execution_count": 4,
     "metadata": {},
     "output_type": "execute_result"
    }
   ],
   "source": [
    "df = tmdb_df.dropna(subset=['certification','revenue'])\n",
    "df = df.set_index('imdb_id')\n",
    "df.info()\n",
    "df.head()"
   ]
  },
  {
   "cell_type": "markdown",
   "id": "98f6e6a6",
   "metadata": {},
   "source": [
    "## State the Hypothesis & Null Hypothesis\n",
    "$H_0$ (Null Hypothesis): There is NOT a significant difference in the revenue based on the rating of a movie.  \n",
    "$H_A$ (Alternative Hypothesis): There is a significant difference in the revenue based on the rating of a movie.  "
   ]
  },
  {
   "cell_type": "markdown",
   "id": "ae7763fb",
   "metadata": {},
   "source": [
    "## Determine the Correct Test to Perform\n",
    "- Numerical Data\n",
    "- More than 2\n",
    "- ANOVA Test"
   ]
  },
  {
   "cell_type": "code",
   "execution_count": 5,
   "id": "123025a0",
   "metadata": {},
   "outputs": [
    {
     "data": {
      "text/plain": [
       "R          459\n",
       "PG-13      183\n",
       "NR          73\n",
       "PG          62\n",
       "G           24\n",
       "NC-17        6\n",
       "Unrated      1\n",
       "-            1\n",
       "Name: certification, dtype: int64"
      ]
     },
     "execution_count": 5,
     "metadata": {},
     "output_type": "execute_result"
    }
   ],
   "source": [
    "df['certification'].value_counts()"
   ]
  },
  {
   "cell_type": "code",
   "execution_count": 6,
   "id": "f3b56aa1",
   "metadata": {},
   "outputs": [],
   "source": [
    "df = df[df.revenue !=0]"
   ]
  },
  {
   "cell_type": "code",
   "execution_count": 7,
   "id": "f5fe0e26",
   "metadata": {
    "scrolled": false
   },
   "outputs": [
    {
     "data": {
      "image/png": "[encoded data removed]",
      "text/plain": [
       "<Figure size 640x480 with 1 Axes>"
      ]
     },
     "metadata": {},
     "output_type": "display_data"
    }
   ],
   "source": [
    "ax = sns.barplot(data=df, x='certification', y='revenue')"
   ]
  },
  {
   "cell_type": "code",
   "execution_count": 8,
   "id": "4f1f44c3",
   "metadata": {
    "scrolled": false
   },
   "outputs": [
    {
     "data": {
      "text/html": [
       "<div>\n",
       "<style scoped>\n",
       "    .dataframe tbody tr th:only-of-type {\n",
       "        vertical-align: middle;\n",
       "    }\n",
       "\n",
       "    .dataframe tbody tr th {\n",
       "        vertical-align: top;\n",
       "    }\n",
       "\n",
       "    .dataframe thead th {\n",
       "        text-align: right;\n",
       "    }\n",
       "</style>\n",
       "<table border=\"1\" class=\"dataframe\">\n",
       "  <thead>\n",
       "    <tr style=\"text-align: right;\">\n",
       "      <th></th>\n",
       "      <th>certification</th>\n",
       "      <th>revenue</th>\n",
       "    </tr>\n",
       "    <tr>\n",
       "      <th>imdb_id</th>\n",
       "      <th></th>\n",
       "      <th></th>\n",
       "    </tr>\n",
       "  </thead>\n",
       "  <tbody>\n",
       "    <tr>\n",
       "      <th>tt0118694</th>\n",
       "      <td>PG</td>\n",
       "      <td>12854953.0</td>\n",
       "    </tr>\n",
       "    <tr>\n",
       "      <th>tt0120467</th>\n",
       "      <td>R</td>\n",
       "      <td>14904.0</td>\n",
       "    </tr>\n",
       "    <tr>\n",
       "      <th>tt0120630</th>\n",
       "      <td>G</td>\n",
       "      <td>224834564.0</td>\n",
       "    </tr>\n",
       "    <tr>\n",
       "      <th>tt0120753</th>\n",
       "      <td>R</td>\n",
       "      <td>105983.0</td>\n",
       "    </tr>\n",
       "    <tr>\n",
       "      <th>tt0120755</th>\n",
       "      <td>PG-13</td>\n",
       "      <td>546388105.0</td>\n",
       "    </tr>\n",
       "    <tr>\n",
       "      <th>...</th>\n",
       "      <td>...</td>\n",
       "      <td>...</td>\n",
       "    </tr>\n",
       "    <tr>\n",
       "      <th>tt0286751</th>\n",
       "      <td>R</td>\n",
       "      <td>318451.0</td>\n",
       "    </tr>\n",
       "    <tr>\n",
       "      <th>tt0287635</th>\n",
       "      <td>PG</td>\n",
       "      <td>28023563.0</td>\n",
       "    </tr>\n",
       "    <tr>\n",
       "      <th>tt0290332</th>\n",
       "      <td>PG</td>\n",
       "      <td>10229331.0</td>\n",
       "    </tr>\n",
       "    <tr>\n",
       "      <th>tt0293416</th>\n",
       "      <td>PG-13</td>\n",
       "      <td>4035192.0</td>\n",
       "    </tr>\n",
       "    <tr>\n",
       "      <th>tt0310790</th>\n",
       "      <td>PG</td>\n",
       "      <td>482902.0</td>\n",
       "    </tr>\n",
       "  </tbody>\n",
       "</table>\n",
       "<p>349 rows × 2 columns</p>\n",
       "</div>"
      ],
      "text/plain": [
       "          certification      revenue\n",
       "imdb_id                             \n",
       "tt0118694            PG   12854953.0\n",
       "tt0120467             R      14904.0\n",
       "tt0120630             G  224834564.0\n",
       "tt0120753             R     105983.0\n",
       "tt0120755         PG-13  546388105.0\n",
       "...                 ...          ...\n",
       "tt0286751             R     318451.0\n",
       "tt0287635            PG   28023563.0\n",
       "tt0290332            PG   10229331.0\n",
       "tt0293416         PG-13    4035192.0\n",
       "tt0310790            PG     482902.0\n",
       "\n",
       "[349 rows x 2 columns]"
      ]
     },
     "execution_count": 8,
     "metadata": {},
     "output_type": "execute_result"
    }
   ],
   "source": [
    "needed_cols = ['certification', 'revenue']\n",
    "df[needed_cols]"
   ]
  },
  {
   "cell_type": "code",
   "execution_count": 9,
   "id": "caca15d8",
   "metadata": {},
   "outputs": [
    {
     "data": {
      "text/plain": [
       "dict_keys(['PG', 'R', 'G', 'PG-13', 'NR'])"
      ]
     },
     "execution_count": 9,
     "metadata": {},
     "output_type": "execute_result"
    }
   ],
   "source": [
    "groups = {}\n",
    "\n",
    "for certification in df['certification'].unique():\n",
    "    temp = df.loc[df['certification']== certification, 'revenue']\n",
    "    groups[certification] = temp\n",
    "groups.keys()"
   ]
  },
  {
   "cell_type": "markdown",
   "id": "dd8b4b32",
   "metadata": {},
   "source": [
    "## Testing Assumptions\n",
    "- No Significant Outliers\n",
    "- Normality\n",
    "- Equal Variance"
   ]
  },
  {
   "cell_type": "markdown",
   "id": "b3b51d49",
   "metadata": {},
   "source": [
    "### Checking Assumption of No Significant Outliers"
   ]
  },
  {
   "cell_type": "code",
   "execution_count": 10,
   "id": "8d4fa7d8",
   "metadata": {
    "scrolled": true
   },
   "outputs": [
    {
     "name": "stdout",
     "output_type": "stream",
     "text": [
      "There were 1 outliers in the PG group.\n",
      "There were 5 outliers in the R group.\n",
      "There were 1 outliers in the G group.\n",
      "There were 2 outliers in the PG-13 group.\n",
      "There were 0 outliers in the NR group.\n"
     ]
    }
   ],
   "source": [
    "for certification, data in groups.items():\n",
    "    outliers = np.abs(stats.zscore(data)) > 3\n",
    "    print(f'There were {outliers.sum()} outliers in the {certification} group.')\n",
    "    data = data.loc[~outliers]\n",
    "    groups[certification] = data"
   ]
  },
  {
   "cell_type": "markdown",
   "id": "20d802cc",
   "metadata": {},
   "source": [
    "### Checking Normality"
   ]
  },
  {
   "cell_type": "code",
   "execution_count": 11,
   "id": "c7307f96",
   "metadata": {
    "scrolled": true
   },
   "outputs": [
    {
     "name": "stderr",
     "output_type": "stream",
     "text": [
      "C:\\Users\\james\\anaconda3\\envs\\dojo-env\\lib\\site-packages\\scipy\\stats\\_stats_py.py:1772: UserWarning: kurtosistest only valid for n>=20 ... continuing anyway, n=13\n",
      "  warnings.warn(\"kurtosistest only valid for n>=20 ... continuing \"\n",
      "C:\\Users\\james\\anaconda3\\envs\\dojo-env\\lib\\site-packages\\scipy\\stats\\_stats_py.py:1772: UserWarning: kurtosistest only valid for n>=20 ... continuing anyway, n=12\n",
      "  warnings.warn(\"kurtosistest only valid for n>=20 ... continuing \"\n"
     ]
    },
    {
     "data": {
      "text/html": [
       "<div>\n",
       "<style scoped>\n",
       "    .dataframe tbody tr th:only-of-type {\n",
       "        vertical-align: middle;\n",
       "    }\n",
       "\n",
       "    .dataframe tbody tr th {\n",
       "        vertical-align: top;\n",
       "    }\n",
       "\n",
       "    .dataframe thead th {\n",
       "        text-align: right;\n",
       "    }\n",
       "</style>\n",
       "<table border=\"1\" class=\"dataframe\">\n",
       "  <thead>\n",
       "    <tr style=\"text-align: right;\">\n",
       "      <th></th>\n",
       "      <th>group</th>\n",
       "      <th>n</th>\n",
       "      <th>pval</th>\n",
       "      <th>sig?</th>\n",
       "    </tr>\n",
       "  </thead>\n",
       "  <tbody>\n",
       "    <tr>\n",
       "      <th>0</th>\n",
       "      <td>PG</td>\n",
       "      <td>31</td>\n",
       "      <td>4.044377e-05</td>\n",
       "      <td>True</td>\n",
       "    </tr>\n",
       "    <tr>\n",
       "      <th>1</th>\n",
       "      <td>R</td>\n",
       "      <td>163</td>\n",
       "      <td>1.802441e-14</td>\n",
       "      <td>True</td>\n",
       "    </tr>\n",
       "    <tr>\n",
       "      <th>2</th>\n",
       "      <td>G</td>\n",
       "      <td>13</td>\n",
       "      <td>3.648793e-01</td>\n",
       "      <td>False</td>\n",
       "    </tr>\n",
       "    <tr>\n",
       "      <th>3</th>\n",
       "      <td>PG-13</td>\n",
       "      <td>121</td>\n",
       "      <td>1.327067e-09</td>\n",
       "      <td>True</td>\n",
       "    </tr>\n",
       "    <tr>\n",
       "      <th>4</th>\n",
       "      <td>NR</td>\n",
       "      <td>12</td>\n",
       "      <td>2.440801e-01</td>\n",
       "      <td>False</td>\n",
       "    </tr>\n",
       "  </tbody>\n",
       "</table>\n",
       "</div>"
      ],
      "text/plain": [
       "   group    n          pval   sig?\n",
       "0     PG   31  4.044377e-05   True\n",
       "1      R  163  1.802441e-14   True\n",
       "2      G   13  3.648793e-01  False\n",
       "3  PG-13  121  1.327067e-09   True\n",
       "4     NR   12  2.440801e-01  False"
      ]
     },
     "execution_count": 11,
     "metadata": {},
     "output_type": "execute_result"
    }
   ],
   "source": [
    "norm_results = [['group','n','pval','sig?']]\n",
    "\n",
    "\n",
    "## loop through group dict\n",
    "for certification, data in groups.items():\n",
    "    ## calculate normaltest results\n",
    "    stat, p = stats.normaltest(data)\n",
    "    \n",
    "    ## Append the right info into norm_resutls (as a list)\n",
    "    norm_results.append([certification,len(data), p, p<.05])\n",
    "    \n",
    "    \n",
    "## Make norm_results a dataframe (first row is columns, everything else data)\n",
    "normal_results = pd.DataFrame(norm_results[1:], columns = norm_results[0])\n",
    "normal_results"
   ]
  },
  {
   "cell_type": "markdown",
   "id": "3232b097",
   "metadata": {},
   "source": [
    "- PG, R, PG-13 all have normal distribution\n",
    "- G and NR fail to meet normality"
   ]
  },
  {
   "cell_type": "markdown",
   "id": "f483c379",
   "metadata": {},
   "source": [
    "### Test for Equal Variances"
   ]
  },
  {
   "cell_type": "code",
   "execution_count": 12,
   "id": "9e5d4566",
   "metadata": {
    "scrolled": true
   },
   "outputs": [
    {
     "data": {
      "text/plain": [
       "LeveneResult(statistic=8.47344846108848, pvalue=1.5980984465059451e-06)"
      ]
     },
     "execution_count": 12,
     "metadata": {},
     "output_type": "execute_result"
    }
   ],
   "source": [
    "result = stats.levene(*groups.values())\n",
    "result"
   ]
  },
  {
   "cell_type": "code",
   "execution_count": 13,
   "id": "8b5209f3",
   "metadata": {},
   "outputs": [
    {
     "name": "stdout",
     "output_type": "stream",
     "text": [
      "The groups do NOT have equal variance.\n"
     ]
    }
   ],
   "source": [
    "if result.pvalue < .05:\n",
    "    print(f\"The groups do NOT have equal variance.\")\n",
    "else:\n",
    "    print(f\"The groups DO have equal variance.\")"
   ]
  },
  {
   "cell_type": "markdown",
   "id": "61ddbeeb",
   "metadata": {},
   "source": [
    "- We have failed to meet the assumption of normality and failed to meet the assumption of equal variance.\n",
    "We wanted to run an ANOVA test but will run a Kurskal-Wallis test."
   ]
  },
  {
   "cell_type": "markdown",
   "id": "5f57f920",
   "metadata": {},
   "source": [
    "## Final Hypothesis - Kurskal-Wallis"
   ]
  },
  {
   "cell_type": "code",
   "execution_count": 14,
   "id": "5f402274",
   "metadata": {},
   "outputs": [
    {
     "name": "stdout",
     "output_type": "stream",
     "text": [
      "KruskalResult(statistic=48.11536460789059, pvalue=8.929398945692642e-10)\n"
     ]
    },
    {
     "data": {
      "text/plain": [
       "True"
      ]
     },
     "execution_count": 14,
     "metadata": {},
     "output_type": "execute_result"
    }
   ],
   "source": [
    "result = stats.kruskal(*groups.values())\n",
    "print(result)\n",
    "result.pvalue<0.05"
   ]
  },
  {
   "cell_type": "markdown",
   "id": "41c793e7",
   "metadata": {},
   "source": [
    "- Our Kruskal Wallis test returned a p-value MUCH less than .05. We reject the null hypothesis and conclude that there is a significant difference between revenue and the movie certifications. "
   ]
  },
  {
   "cell_type": "markdown",
   "id": "3e1da5cb",
   "metadata": {},
   "source": [
    "# Question 2\n",
    "- Do movies that are over 2.5 hours long earn more revenue than movies that are 1.5 hours long (or less)? "
   ]
  },
  {
   "cell_type": "markdown",
   "id": "04a3f455",
   "metadata": {},
   "source": [
    "## State the Hypothesis & Null Hypothesis\n",
    "$H_0$ (Null Hypothesis): There is NOT a significant difference in the revenue based on the runtime of a movie.  \n",
    "$H_A$ (Alternative Hypothesis): There is a significant difference in the revenue based on the runtime of a movie. "
   ]
  },
  {
   "cell_type": "markdown",
   "id": "196acf5f",
   "metadata": {},
   "source": [
    "## Determine the Correct Test to Perform\n",
    "- Numeric Data\n",
    "- Two groups/samples\n",
    "- We want to run a 2-Sample T-Test"
   ]
  },
  {
   "cell_type": "code",
   "execution_count": 15,
   "id": "64d506db",
   "metadata": {
    "scrolled": true
   },
   "outputs": [
    {
     "data": {
      "text/plain": [
       "106.0    13\n",
       "95.0     13\n",
       "90.0     12\n",
       "99.0     11\n",
       "104.0    10\n",
       "         ..\n",
       "74.0      1\n",
       "199.0     1\n",
       "165.0     1\n",
       "141.0     1\n",
       "172.0     1\n",
       "Name: runtime, Length: 75, dtype: int64"
      ]
     },
     "execution_count": 15,
     "metadata": {},
     "output_type": "execute_result"
    }
   ],
   "source": [
    "df['runtime'].value_counts()"
   ]
  },
  {
   "cell_type": "code",
   "execution_count": 28,
   "id": "59a9b19d",
   "metadata": {},
   "outputs": [],
   "source": [
    "time_range = (df['runtime']<=150)&(df['runtime']<90)"
   ]
  },
  {
   "cell_type": "code",
   "execution_count": 29,
   "id": "665e00cf",
   "metadata": {
    "scrolled": true
   },
   "outputs": [
    {
     "name": "stdout",
     "output_type": "stream",
     "text": [
      "<class 'pandas.core.frame.DataFrame'>\n",
      "Index: 0 entries\n",
      "Data columns (total 25 columns):\n",
      " #   Column                 Non-Null Count  Dtype  \n",
      "---  ------                 --------------  -----  \n",
      " 0   adult                  0 non-null      float64\n",
      " 1   backdrop_path          0 non-null      object \n",
      " 2   belongs_to_collection  0 non-null      object \n",
      " 3   budget                 0 non-null      float64\n",
      " 4   genres                 0 non-null      object \n",
      " 5   homepage               0 non-null      object \n",
      " 6   id                     0 non-null      float64\n",
      " 7   original_language      0 non-null      object \n",
      " 8   original_title         0 non-null      object \n",
      " 9   overview               0 non-null      object \n",
      " 10  popularity             0 non-null      float64\n",
      " 11  poster_path            0 non-null      object \n",
      " 12  production_companies   0 non-null      object \n",
      " 13  production_countries   0 non-null      object \n",
      " 14  release_date           0 non-null      object \n",
      " 15  revenue                0 non-null      float64\n",
      " 16  runtime                0 non-null      float64\n",
      " 17  spoken_languages       0 non-null      object \n",
      " 18  status                 0 non-null      object \n",
      " 19  tagline                0 non-null      object \n",
      " 20  title                  0 non-null      object \n",
      " 21  video                  0 non-null      float64\n",
      " 22  vote_average           0 non-null      float64\n",
      " 23  vote_count             0 non-null      float64\n",
      " 24  certification          0 non-null      object \n",
      "dtypes: float64(9), object(16)\n",
      "memory usage: 0.0+ bytes\n"
     ]
    }
   ],
   "source": [
    "df = df.loc[time_range,:]\n",
    "df.info()"
   ]
  },
  {
   "cell_type": "code",
   "execution_count": 30,
   "id": "7278793c",
   "metadata": {},
   "outputs": [
    {
     "data": {
      "text/html": [
       "<div>\n",
       "<style scoped>\n",
       "    .dataframe tbody tr th:only-of-type {\n",
       "        vertical-align: middle;\n",
       "    }\n",
       "\n",
       "    .dataframe tbody tr th {\n",
       "        vertical-align: top;\n",
       "    }\n",
       "\n",
       "    .dataframe thead th {\n",
       "        text-align: right;\n",
       "    }\n",
       "</style>\n",
       "<table border=\"1\" class=\"dataframe\">\n",
       "  <thead>\n",
       "    <tr style=\"text-align: right;\">\n",
       "      <th></th>\n",
       "      <th>runtime</th>\n",
       "      <th>revenue</th>\n",
       "    </tr>\n",
       "    <tr>\n",
       "      <th>imdb_id</th>\n",
       "      <th></th>\n",
       "      <th></th>\n",
       "    </tr>\n",
       "  </thead>\n",
       "  <tbody>\n",
       "  </tbody>\n",
       "</table>\n",
       "</div>"
      ],
      "text/plain": [
       "Empty DataFrame\n",
       "Columns: [runtime, revenue]\n",
       "Index: []"
      ]
     },
     "execution_count": 30,
     "metadata": {},
     "output_type": "execute_result"
    }
   ],
   "source": [
    "needed_cols = ['runtime', 'revenue']\n",
    "df[needed_cols]"
   ]
  },
  {
   "cell_type": "code",
   "execution_count": 27,
   "id": "fa27c141",
   "metadata": {},
   "outputs": [
    {
     "data": {
      "text/html": [
       "<div>\n",
       "<style scoped>\n",
       "    .dataframe tbody tr th:only-of-type {\n",
       "        vertical-align: middle;\n",
       "    }\n",
       "\n",
       "    .dataframe tbody tr th {\n",
       "        vertical-align: top;\n",
       "    }\n",
       "\n",
       "    .dataframe thead th {\n",
       "        text-align: right;\n",
       "    }\n",
       "</style>\n",
       "<table border=\"1\" class=\"dataframe\">\n",
       "  <thead>\n",
       "    <tr style=\"text-align: right;\">\n",
       "      <th></th>\n",
       "      <th>runtime</th>\n",
       "      <th>revenue</th>\n",
       "    </tr>\n",
       "    <tr>\n",
       "      <th>imdb_id</th>\n",
       "      <th></th>\n",
       "      <th></th>\n",
       "    </tr>\n",
       "  </thead>\n",
       "  <tbody>\n",
       "  </tbody>\n",
       "</table>\n",
       "</div>"
      ],
      "text/plain": [
       "Empty DataFrame\n",
       "Columns: [runtime, revenue]\n",
       "Index: []"
      ]
     },
     "execution_count": 27,
     "metadata": {},
     "output_type": "execute_result"
    }
   ],
   "source": [
    "hour_half = df.loc[df['runtime']<90, needed_cols]\n",
    "hour_half"
   ]
  },
  {
   "cell_type": "markdown",
   "id": "dce01f6b",
   "metadata": {},
   "source": [
    "## Testing Assumptions"
   ]
  },
  {
   "cell_type": "markdown",
   "id": "aa5dc578",
   "metadata": {},
   "source": [
    "### Checking Assumption of No Significant Outliers"
   ]
  },
  {
   "cell_type": "markdown",
   "id": "96d82fa0",
   "metadata": {},
   "source": [
    "### Checking Normality"
   ]
  },
  {
   "cell_type": "markdown",
   "id": "bdc23b51",
   "metadata": {},
   "source": [
    "### Test for Equal Variances"
   ]
  },
  {
   "cell_type": "markdown",
   "id": "2be004fe",
   "metadata": {},
   "source": [
    "## Final Hypothesis - "
   ]
  },
  {
   "cell_type": "markdown",
   "id": "23d03ad8",
   "metadata": {},
   "source": [
    "# Question 3\n",
    "- Do some movie genres earn more revenue than others?"
   ]
  },
  {
   "cell_type": "markdown",
   "id": "97ec4bf6",
   "metadata": {},
   "source": [
    "## State the Hypothesis & Null Hypothesis\n",
    "$H_0$ (Null Hypothesis): There is NOT a significant difference in the revenue based on the rating of a movie.  \n",
    "$H_A$ (Alternative Hypothesis): There is a significant difference in the revenue based on the rating of a movie. "
   ]
  },
  {
   "cell_type": "markdown",
   "id": "9da96255",
   "metadata": {},
   "source": [
    "## Determine the Correct Test to Perform"
   ]
  },
  {
   "cell_type": "markdown",
   "id": "f81d7dbe",
   "metadata": {},
   "source": [
    "## Testing Assumptions"
   ]
  },
  {
   "cell_type": "markdown",
   "id": "87fc7097",
   "metadata": {},
   "source": [
    "### Checking Assumption of No Significant Outliers"
   ]
  },
  {
   "cell_type": "markdown",
   "id": "586ff95b",
   "metadata": {},
   "source": [
    "### Checking Normality"
   ]
  },
  {
   "cell_type": "markdown",
   "id": "718bb204",
   "metadata": {},
   "source": [
    "### Test for Equal Variances"
   ]
  },
  {
   "cell_type": "markdown",
   "id": "147dda7a",
   "metadata": {},
   "source": [
    "## Final Hypothesis - "
   ]
  }
 ],
 "metadata": {
  "kernelspec": {
   "display_name": "Python (dojo-env)",
   "language": "python",
   "name": "dojo-env"
  },
  "language_info": {
   "codemirror_mode": {
    "name": "ipython",
    "version": 3
   },
   "file_extension": ".py",
   "mimetype": "text/x-python",
   "name": "python",
   "nbconvert_exporter": "python",
   "pygments_lexer": "ipython3",
   "version": "3.9.15"
  },
  "toc": {
   "base_numbering": 1,
   "nav_menu": {},
   "number_sections": true,
   "sideBar": true,
   "skip_h1_title": false,
   "title_cell": "Table of Contents",
   "title_sidebar": "Contents",
   "toc_cell": false,
   "toc_position": {},
   "toc_section_display": true,
   "toc_window_display": true
  }
 },
 "nbformat": 4,
 "nbformat_minor": 5
}
